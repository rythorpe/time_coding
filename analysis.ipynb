{
 "cells": [
  {
   "cell_type": "code",
   "execution_count": 1,
   "id": "75f32f2e",
   "metadata": {},
   "outputs": [],
   "source": [
    "from collections import defaultdict\n",
    "import os.path as op\n",
    "from cycler import cycler\n",
    "from glob import glob\n",
    "\n",
    "import h5py\n",
    "import numpy as np\n",
    "import pandas as pd\n",
    "\n",
    "import matplotlib.pyplot as plt\n",
    "import seaborn as sns\n",
    "\n",
    "from viz import (plot_learning, plot_state_traj, plot_all_units,\n",
    "                 plot_weight_distr)"
   ]
  },
  {
   "cell_type": "code",
   "execution_count": 5,
   "id": "dc09cdf0",
   "metadata": {},
   "outputs": [
    {
     "ename": "KeyError",
     "evalue": "\"Unable to synchronously open object (object 'losses' doesn't exist)\"",
     "output_type": "error",
     "traceback": [
      "\u001b[0;31m---------------------------------------------------------------------------\u001b[0m",
      "\u001b[0;31mKeyError\u001b[0m                                  Traceback (most recent call last)",
      "Cell \u001b[0;32mIn[5], line 7\u001b[0m\n\u001b[1;32m      5\u001b[0m \u001b[38;5;28;01mfor\u001b[39;00m fname \u001b[38;5;129;01min\u001b[39;00m fnames:\n\u001b[1;32m      6\u001b[0m     \u001b[38;5;28;01mwith\u001b[39;00m h5py\u001b[38;5;241m.\u001b[39mFile(fname, \u001b[38;5;124m'\u001b[39m\u001b[38;5;124mr\u001b[39m\u001b[38;5;124m'\u001b[39m) \u001b[38;5;28;01mas\u001b[39;00m fread:\n\u001b[0;32m----> 7\u001b[0m         trial \u001b[38;5;241m=\u001b[39m fread[\u001b[38;5;124m'\u001b[39m\u001b[38;5;124mlosses\u001b[39m\u001b[38;5;124m'\u001b[39m]\n",
      "File \u001b[0;32mh5py/_objects.pyx:56\u001b[0m, in \u001b[0;36mh5py._objects.with_phil.wrapper\u001b[0;34m()\u001b[0m\n",
      "File \u001b[0;32mh5py/_objects.pyx:57\u001b[0m, in \u001b[0;36mh5py._objects.with_phil.wrapper\u001b[0;34m()\u001b[0m\n",
      "File \u001b[0;32m~/anaconda3/envs/rnn/lib/python3.11/site-packages/h5py/_hl/group.py:360\u001b[0m, in \u001b[0;36mGroup.__getitem__\u001b[0;34m(self, name)\u001b[0m\n\u001b[1;32m    358\u001b[0m         \u001b[38;5;28;01mraise\u001b[39;00m \u001b[38;5;167;01mValueError\u001b[39;00m(\u001b[38;5;124m\"\u001b[39m\u001b[38;5;124mInvalid HDF5 object reference\u001b[39m\u001b[38;5;124m\"\u001b[39m)\n\u001b[1;32m    359\u001b[0m \u001b[38;5;28;01melif\u001b[39;00m \u001b[38;5;28misinstance\u001b[39m(name, (\u001b[38;5;28mbytes\u001b[39m, \u001b[38;5;28mstr\u001b[39m)):\n\u001b[0;32m--> 360\u001b[0m     oid \u001b[38;5;241m=\u001b[39m h5o\u001b[38;5;241m.\u001b[39mopen(\u001b[38;5;28mself\u001b[39m\u001b[38;5;241m.\u001b[39mid, \u001b[38;5;28mself\u001b[39m\u001b[38;5;241m.\u001b[39m_e(name), lapl\u001b[38;5;241m=\u001b[39m\u001b[38;5;28mself\u001b[39m\u001b[38;5;241m.\u001b[39m_lapl)\n\u001b[1;32m    361\u001b[0m \u001b[38;5;28;01melse\u001b[39;00m:\n\u001b[1;32m    362\u001b[0m     \u001b[38;5;28;01mraise\u001b[39;00m \u001b[38;5;167;01mTypeError\u001b[39;00m(\u001b[38;5;124m\"\u001b[39m\u001b[38;5;124mAccessing a group is done with bytes or str, \u001b[39m\u001b[38;5;124m\"\u001b[39m\n\u001b[1;32m    363\u001b[0m                     \u001b[38;5;124m\"\u001b[39m\u001b[38;5;124mnot \u001b[39m\u001b[38;5;132;01m{}\u001b[39;00m\u001b[38;5;124m\"\u001b[39m\u001b[38;5;241m.\u001b[39mformat(\u001b[38;5;28mtype\u001b[39m(name)))\n",
      "File \u001b[0;32mh5py/_objects.pyx:56\u001b[0m, in \u001b[0;36mh5py._objects.with_phil.wrapper\u001b[0;34m()\u001b[0m\n",
      "File \u001b[0;32mh5py/_objects.pyx:57\u001b[0m, in \u001b[0;36mh5py._objects.with_phil.wrapper\u001b[0;34m()\u001b[0m\n",
      "File \u001b[0;32mh5py/h5o.pyx:257\u001b[0m, in \u001b[0;36mh5py.h5o.open\u001b[0;34m()\u001b[0m\n",
      "\u001b[0;31mKeyError\u001b[0m: \"Unable to synchronously open object (object 'losses' doesn't exist)\""
     ]
    }
   ],
   "source": [
    "fnames = glob('/home/ryan/time_coding_output/*.hdf5')\n",
    "fnames = sorted(fnames)\n",
    "n_nets = len(fnames)\n",
    "\n",
    "for fname in fnames:\n",
    "    with h5py.File(fname, 'r') as fread:\n",
    "        trial = fread['losses']"
   ]
  },
  {
   "cell_type": "code",
   "execution_count": null,
   "id": "1bb98b51",
   "metadata": {},
   "outputs": [],
   "source": [
    "with h5py.File('/home/ryan/Desktop/sim_data_net0_5c09edf_2025-08-25_16:37:47.hdf5', 'r') as f_read:\n",
    "    trial = f_read['z_t'][-1, 0, :, :2]"
   ]
  },
  {
   "cell_type": "code",
   "execution_count": null,
   "id": "838fc356",
   "metadata": {},
   "outputs": [],
   "source": [
    "# parse data\n",
    "learning_metrics = defaultdict(list)\n",
    "learning_metrics['stp'] = param_keys.tolist()\n",
    "divergences = list()\n",
    "response_times = list()\n",
    "perturbation_mags = list()\n",
    "stp_types = np.repeat(param_keys, 3)\n",
    "\n",
    "for key in res[0].keys():\n",
    "    for trial in res:\n",
    "        if trial[key] is not None:\n",
    "            if key == 'divergence':\n",
    "                divergences.extend(trial[key])\n",
    "            elif key == 'perturbation_mag':\n",
    "                perturbation_mags.extend(trial[key])\n",
    "            elif key == 'response_times':\n",
    "                response_times.extend(np.tile(trial[key], (3, 1)).tolist())\n",
    "            else:\n",
    "                learning_metrics[key].append(trial[key])\n",
    "\n",
    "# fig_divergence, ax = plt.subplots(1, 1, figsize=(3, 3))\n",
    "# divergence = np.mean(metrics['divergence'], axis=0)\n",
    "# delay_times = metrics['response_times'][0]\n",
    "# perturb_mags = metrics['perturbation_mag'][0]\n",
    "# plot_divergence(divergence, delay_times, perturb_mags, ax=ax)\n",
    "# fig_divergence.tight_layout()\n",
    "\n",
    "# plot avg divergence over time for each STP condition w/ error bars\n",
    "n_times = len(response_times[0])\n",
    "data = np.array([np.ravel(divergences), np.ravel(response_times),\n",
    "                 np.repeat(perturbation_mags, n_times),\n",
    "                 np.repeat(stp_types, n_times)])\n",
    "div_df = pd.DataFrame(data.T, columns=['MSE', 'time (s)', 'perturbation',\n",
    "                                       'stp_type'])\n",
    "fig_divergence, axes = plt.subplots(1, len(param_labels), sharey=True,\n",
    "                                    figsize=(10, 3))\n",
    "for stp_type_idx, stp_type in enumerate(param_labels):\n",
    "    sns.lineplot(data=div_df[div_df['stp_type'] == stp_type], x='time (s)',\n",
    "                 y='MSE', hue='perturbation', ax=axes[stp_type_idx])\n",
    "fig_divergence.tight_layout()\n",
    "fname = 'divergence.png'\n",
    "fig_divergence.savefig(op.join(output_dir, fname))\n",
    "\n",
    "# plot avg learning curve across STP conditions on one set of axes\n",
    "cm_hidden = sns.color_palette('colorblind')\n",
    "fig_learning, axes = plt.subplots(1, 1, figsize=(4, 3))\n",
    "axes.set_prop_cycle(cycler('color', cm_hidden))\n",
    "loss_groupby_stp = defaultdict(list)\n",
    "for stp_type, losses in zip(learning_metrics['stp'], learning_metrics['losses']):\n",
    "    loss_groupby_stp[stp_type].append(losses)\n",
    "\n",
    "for idx, (key, val) in enumerate(loss_groupby_stp.items()):\n",
    "    losses_avg = np.mean(val, axis=0)\n",
    "    iter_idxs = np.arange(len(losses_avg))\n",
    "    axes.semilogy(iter_idxs, losses_avg, lw=2, label=key)\n",
    "axes.grid(axis='y')\n",
    "axes.grid(which=\"minor\", color=\"0.9\")\n",
    "ub_xtick = iter_idxs[-1]\n",
    "axes.set_xticks([0, ub_xtick])\n",
    "axes.set_xlabel('iteration')\n",
    "axes.set_ylabel('normalized MSE')\n",
    "axes.legend()\n",
    "fig_learning.tight_layout()\n",
    "fname = 'learning.png'\n",
    "fig_learning.savefig(op.join(output_dir, fname))"
   ]
  }
 ],
 "metadata": {
  "kernelspec": {
   "display_name": "rnn",
   "language": "python",
   "name": "python3"
  },
  "language_info": {
   "codemirror_mode": {
    "name": "ipython",
    "version": 3
   },
   "file_extension": ".py",
   "mimetype": "text/x-python",
   "name": "python",
   "nbconvert_exporter": "python",
   "pygments_lexer": "ipython3",
   "version": "3.11.9"
  }
 },
 "nbformat": 4,
 "nbformat_minor": 5
}
