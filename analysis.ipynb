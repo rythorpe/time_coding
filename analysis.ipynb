{
 "cells": [
  {
   "cell_type": "code",
   "execution_count": 1,
   "id": "75f32f2e",
   "metadata": {},
   "outputs": [],
   "source": [
    "from collections import defaultdict\n",
    "import os.path as op\n",
    "from cycler import cycler\n",
    "from glob import glob\n",
    "\n",
    "import h5py\n",
    "import numpy as np\n",
    "import pandas as pd\n",
    "\n",
    "import matplotlib.pyplot as plt\n",
    "import seaborn as sns\n",
    "\n",
    "from viz import (plot_learning, plot_state_traj, plot_all_units,\n",
    "                 plot_weight_distr)"
   ]
  },
  {
   "cell_type": "code",
   "execution_count": null,
   "id": "34a7d877",
   "metadata": {},
   "outputs": [],
   "source": [
    "# tau, include_stp, noise_tau, noise_std, include_corr_noise, p_rel_range\n",
    "sim_params_all = [[0.01, False, 0.01, 0.0, False, 2],\n",
    "                  [0.05, False, 0.01, 0.0, False, 2],\n",
    "                  [0.01, False, 0.01, 0.0, False, 2],\n",
    "                  [0.01, True, 0.01, 0.0, False, 2],\n",
    "                  [0.01, False, 0.01, 1e-6, False, 2],\n",
    "                  [0.01, True, 0.01, 1e-6, False, 2],\n",
    "                  [0.01, False, 0.01, 1e-6, True, 2],\n",
    "                  [0.01, True, 0.01, 1e-6, True, 2],\n",
    "                  [0.01, True, 0.01, 1e-6, False, 1],\n",
    "                  [0.01, True, 0.01, 1e-6, False, 0]]\n",
    "sim_type_labels = ['w/o STP, small tau',\n",
    "                   'w/o STP, large tau',\n",
    "                   'w/o STP, no noise',\n",
    "                   'w/ STP, no noise',\n",
    "                   'w/o STP + uncorr. noise',\n",
    "                   'w/ STP + uncorr. noise',\n",
    "                   'w/o STP + corr. noise',\n",
    "                   'w/ STP + corr. noise',\n",
    "                   'w/o STP + uncorr. noise, low hetero p_rel',\n",
    "                   'w/ STP + uncorr. noise, homo p_rel']\n",
    "n_sim_types = len(sim_params_all)"
   ]
  },
  {
   "cell_type": "code",
   "execution_count": null,
   "id": "dc09cdf0",
   "metadata": {},
   "outputs": [
    {
     "name": "stdout",
     "output_type": "stream",
     "text": [
      "[[5.7222376  2.7740734  2.0313363  ... 0.28380057 0.28359058 0.28338084]\n",
      " [1.1941375  1.1088403  1.0771329  ... 0.15273821 0.15263924 0.15254046]\n",
      " [0.74793476 0.63584197 0.60506755 ... 0.17522496 0.17513373 0.17504257]\n",
      " ...\n",
      " [0.9653939  0.9335863  0.92111754 ... 0.46545443 0.40763834 0.50626695]\n",
      " [0.68672246 0.52280897 0.5155395  ... 0.33147064 0.36252144 0.32060727]\n",
      " [0.77325946 0.59137934 0.6521334  ... 0.34862483 0.32984307 0.42596486]]\n"
     ]
    }
   ],
   "source": [
    "f_names = glob('/home/ryan/time_coding_output/*.hdf5')\n",
    "f_names = sorted(f_names)\n",
    "n_nets = len(f_names)\n",
    "\n",
    "loss_traj = list()\n",
    "for f_name in f_names:\n",
    "    with h5py.File(f_name, 'r') as f_read:\n",
    "        losses = f_read.get('losses')[:]\n",
    "        loss_traj.append(losses)\n",
    "\n",
    "loss_traj = np.stack(loss_traj)"
   ]
  },
  {
   "cell_type": "code",
   "execution_count": 10,
   "id": "1bb98b51",
   "metadata": {},
   "outputs": [
    {
     "ename": "FileNotFoundError",
     "evalue": "[Errno 2] Unable to synchronously open file (unable to open file: name = '/home/ryan/time_coding_output/sim_data_net00_3752213_2025-08-27_14:19:25.hdf5', errno = 2, error message = 'No such file or directory', flags = 0, o_flags = 0)",
     "output_type": "error",
     "traceback": [
      "\u001b[0;31m---------------------------------------------------------------------------\u001b[0m",
      "\u001b[0;31mFileNotFoundError\u001b[0m                         Traceback (most recent call last)",
      "Cell \u001b[0;32mIn[10], line 1\u001b[0m\n\u001b[0;32m----> 1\u001b[0m \u001b[38;5;28;01mwith\u001b[39;00m h5py\u001b[38;5;241m.\u001b[39mFile(\u001b[38;5;124m'\u001b[39m\u001b[38;5;124m/home/ryan/time_coding_output/sim_data_net00_3752213_2025-08-27_14:19:25.hdf5\u001b[39m\u001b[38;5;124m'\u001b[39m, \u001b[38;5;124m'\u001b[39m\u001b[38;5;124mr\u001b[39m\u001b[38;5;124m'\u001b[39m) \u001b[38;5;28;01mas\u001b[39;00m f_read:\n\u001b[1;32m      2\u001b[0m     trial \u001b[38;5;241m=\u001b[39m f_read[\u001b[38;5;124m'\u001b[39m\u001b[38;5;124mz_t\u001b[39m\u001b[38;5;124m'\u001b[39m][\u001b[38;5;241m-\u001b[39m\u001b[38;5;241m1\u001b[39m, \u001b[38;5;241m0\u001b[39m, :, :\u001b[38;5;241m2\u001b[39m]\n",
      "File \u001b[0;32m~/anaconda3/envs/rnn/lib/python3.11/site-packages/h5py/_hl/files.py:564\u001b[0m, in \u001b[0;36mFile.__init__\u001b[0;34m(self, name, mode, driver, libver, userblock_size, swmr, rdcc_nslots, rdcc_nbytes, rdcc_w0, track_order, fs_strategy, fs_persist, fs_threshold, fs_page_size, page_buf_size, min_meta_keep, min_raw_keep, locking, alignment_threshold, alignment_interval, meta_block_size, **kwds)\u001b[0m\n\u001b[1;32m    555\u001b[0m     fapl \u001b[38;5;241m=\u001b[39m make_fapl(driver, libver, rdcc_nslots, rdcc_nbytes, rdcc_w0,\n\u001b[1;32m    556\u001b[0m                      locking, page_buf_size, min_meta_keep, min_raw_keep,\n\u001b[1;32m    557\u001b[0m                      alignment_threshold\u001b[38;5;241m=\u001b[39malignment_threshold,\n\u001b[1;32m    558\u001b[0m                      alignment_interval\u001b[38;5;241m=\u001b[39malignment_interval,\n\u001b[1;32m    559\u001b[0m                      meta_block_size\u001b[38;5;241m=\u001b[39mmeta_block_size,\n\u001b[1;32m    560\u001b[0m                      \u001b[38;5;241m*\u001b[39m\u001b[38;5;241m*\u001b[39mkwds)\n\u001b[1;32m    561\u001b[0m     fcpl \u001b[38;5;241m=\u001b[39m make_fcpl(track_order\u001b[38;5;241m=\u001b[39mtrack_order, fs_strategy\u001b[38;5;241m=\u001b[39mfs_strategy,\n\u001b[1;32m    562\u001b[0m                      fs_persist\u001b[38;5;241m=\u001b[39mfs_persist, fs_threshold\u001b[38;5;241m=\u001b[39mfs_threshold,\n\u001b[1;32m    563\u001b[0m                      fs_page_size\u001b[38;5;241m=\u001b[39mfs_page_size)\n\u001b[0;32m--> 564\u001b[0m     fid \u001b[38;5;241m=\u001b[39m make_fid(name, mode, userblock_size, fapl, fcpl, swmr\u001b[38;5;241m=\u001b[39mswmr)\n\u001b[1;32m    566\u001b[0m \u001b[38;5;28;01mif\u001b[39;00m \u001b[38;5;28misinstance\u001b[39m(libver, \u001b[38;5;28mtuple\u001b[39m):\n\u001b[1;32m    567\u001b[0m     \u001b[38;5;28mself\u001b[39m\u001b[38;5;241m.\u001b[39m_libver \u001b[38;5;241m=\u001b[39m libver\n",
      "File \u001b[0;32m~/anaconda3/envs/rnn/lib/python3.11/site-packages/h5py/_hl/files.py:238\u001b[0m, in \u001b[0;36mmake_fid\u001b[0;34m(name, mode, userblock_size, fapl, fcpl, swmr)\u001b[0m\n\u001b[1;32m    236\u001b[0m     \u001b[38;5;28;01mif\u001b[39;00m swmr \u001b[38;5;129;01mand\u001b[39;00m swmr_support:\n\u001b[1;32m    237\u001b[0m         flags \u001b[38;5;241m|\u001b[39m\u001b[38;5;241m=\u001b[39m h5f\u001b[38;5;241m.\u001b[39mACC_SWMR_READ\n\u001b[0;32m--> 238\u001b[0m     fid \u001b[38;5;241m=\u001b[39m h5f\u001b[38;5;241m.\u001b[39mopen(name, flags, fapl\u001b[38;5;241m=\u001b[39mfapl)\n\u001b[1;32m    239\u001b[0m \u001b[38;5;28;01melif\u001b[39;00m mode \u001b[38;5;241m==\u001b[39m \u001b[38;5;124m'\u001b[39m\u001b[38;5;124mr+\u001b[39m\u001b[38;5;124m'\u001b[39m:\n\u001b[1;32m    240\u001b[0m     fid \u001b[38;5;241m=\u001b[39m h5f\u001b[38;5;241m.\u001b[39mopen(name, h5f\u001b[38;5;241m.\u001b[39mACC_RDWR, fapl\u001b[38;5;241m=\u001b[39mfapl)\n",
      "File \u001b[0;32mh5py/_objects.pyx:56\u001b[0m, in \u001b[0;36mh5py._objects.with_phil.wrapper\u001b[0;34m()\u001b[0m\n",
      "File \u001b[0;32mh5py/_objects.pyx:57\u001b[0m, in \u001b[0;36mh5py._objects.with_phil.wrapper\u001b[0;34m()\u001b[0m\n",
      "File \u001b[0;32mh5py/h5f.pyx:102\u001b[0m, in \u001b[0;36mh5py.h5f.open\u001b[0;34m()\u001b[0m\n",
      "\u001b[0;31mFileNotFoundError\u001b[0m: [Errno 2] Unable to synchronously open file (unable to open file: name = '/home/ryan/time_coding_output/sim_data_net00_3752213_2025-08-27_14:19:25.hdf5', errno = 2, error message = 'No such file or directory', flags = 0, o_flags = 0)"
     ]
    }
   ],
   "source": [
    "with h5py.File('/home/ryan/time_coding_output/sim_data_net00_3752213_2025-08-27_14:19:25.hdf5', 'r') as f_read:\n",
    "    trial = f_read['z_t'][-1, 0, :, :2]"
   ]
  },
  {
   "cell_type": "code",
   "execution_count": null,
   "id": "838fc356",
   "metadata": {},
   "outputs": [],
   "source": [
    "# parse data\n",
    "learning_metrics = defaultdict(list)\n",
    "learning_metrics['stp'] = param_keys.tolist()\n",
    "divergences = list()\n",
    "response_times = list()\n",
    "perturbation_mags = list()\n",
    "stp_types = np.repeat(param_keys, 3)\n",
    "\n",
    "for key in res[0].keys():\n",
    "    for trial in res:\n",
    "        if trial[key] is not None:\n",
    "            if key == 'divergence':\n",
    "                divergences.extend(trial[key])\n",
    "            elif key == 'perturbation_mag':\n",
    "                perturbation_mags.extend(trial[key])\n",
    "            elif key == 'response_times':\n",
    "                response_times.extend(np.tile(trial[key], (3, 1)).tolist())\n",
    "            else:\n",
    "                learning_metrics[key].append(trial[key])\n",
    "\n",
    "# fig_divergence, ax = plt.subplots(1, 1, figsize=(3, 3))\n",
    "# divergence = np.mean(metrics['divergence'], axis=0)\n",
    "# delay_times = metrics['response_times'][0]\n",
    "# perturb_mags = metrics['perturbation_mag'][0]\n",
    "# plot_divergence(divergence, delay_times, perturb_mags, ax=ax)\n",
    "# fig_divergence.tight_layout()\n",
    "\n",
    "# plot avg divergence over time for each STP condition w/ error bars\n",
    "n_times = len(response_times[0])\n",
    "data = np.array([np.ravel(divergences), np.ravel(response_times),\n",
    "                 np.repeat(perturbation_mags, n_times),\n",
    "                 np.repeat(stp_types, n_times)])\n",
    "div_df = pd.DataFrame(data.T, columns=['MSE', 'time (s)', 'perturbation',\n",
    "                                       'stp_type'])\n",
    "fig_divergence, axes = plt.subplots(1, len(param_labels), sharey=True,\n",
    "                                    figsize=(10, 3))\n",
    "for stp_type_idx, stp_type in enumerate(param_labels):\n",
    "    sns.lineplot(data=div_df[div_df['stp_type'] == stp_type], x='time (s)',\n",
    "                 y='MSE', hue='perturbation', ax=axes[stp_type_idx])\n",
    "fig_divergence.tight_layout()\n",
    "fname = 'divergence.png'\n",
    "fig_divergence.savefig(op.join(output_dir, fname))\n",
    "\n",
    "# plot avg learning curve across STP conditions on one set of axes\n",
    "cm_hidden = sns.color_palette('colorblind')\n",
    "fig_learning, axes = plt.subplots(1, 1, figsize=(4, 3))\n",
    "axes.set_prop_cycle(cycler('color', cm_hidden))\n",
    "loss_groupby_stp = defaultdict(list)\n",
    "for stp_type, losses in zip(learning_metrics['stp'], learning_metrics['losses']):\n",
    "    loss_groupby_stp[stp_type].append(losses)\n",
    "\n",
    "for idx, (key, val) in enumerate(loss_groupby_stp.items()):\n",
    "    losses_avg = np.mean(val, axis=0)\n",
    "    iter_idxs = np.arange(len(losses_avg))\n",
    "    axes.semilogy(iter_idxs, losses_avg, lw=2, label=key)\n",
    "axes.grid(axis='y')\n",
    "axes.grid(which=\"minor\", color=\"0.9\")\n",
    "ub_xtick = iter_idxs[-1]\n",
    "axes.set_xticks([0, ub_xtick])\n",
    "axes.set_xlabel('iteration')\n",
    "axes.set_ylabel('normalized MSE')\n",
    "axes.legend()\n",
    "fig_learning.tight_layout()\n",
    "fname = 'learning.png'\n",
    "fig_learning.savefig(op.join(output_dir, fname))"
   ]
  }
 ],
 "metadata": {
  "kernelspec": {
   "display_name": "rnn",
   "language": "python",
   "name": "python3"
  },
  "language_info": {
   "codemirror_mode": {
    "name": "ipython",
    "version": 3
   },
   "file_extension": ".py",
   "mimetype": "text/x-python",
   "name": "python",
   "nbconvert_exporter": "python",
   "pygments_lexer": "ipython3",
   "version": "3.11.9"
  }
 },
 "nbformat": 4,
 "nbformat_minor": 5
}
